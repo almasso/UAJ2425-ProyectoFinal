{
 "cells": [
  {
   "cell_type": "markdown",
   "id": "aa6c8f6c",
   "metadata": {},
   "source": [
    "# Métricas UAJ - Proyecto Final\n",
    "\n",
    "Este notebook guiará el análisis de telemetría paso a paso.\n",
    "\n",
    "**Estructura de carpetas (relativa a este notebook):**\n",
    "```\n",
    "analysis/\n",
    "├─ data/  ← aquí van los JSON de telemetría\n",
    "└─ métricas_uaj_notebook_p3.ipynb  ← este notebook\n",
    "```"
   ]
  },
  {
   "cell_type": "markdown",
   "id": "ade2e4f8",
   "metadata": {},
   "source": [
    "## Paso 1: Cargar y explorar el JSON"
   ]
  },
  {
   "cell_type": "code",
   "execution_count": 26,
   "id": "8133e201",
   "metadata": {},
   "outputs": [
    {
     "name": "stdout",
     "output_type": "stream",
     "text": [
      "Detectados 4 ficheros JSON en ./data\n",
      "Total de eventos: 16064\n",
      "\n",
      "Tipos de evento y recuentos:\n",
      " eventType\n",
      "Position      16048\n",
      "GameStart         4\n",
      "LevelStart        4\n",
      "LevelEnd          4\n",
      "GameEnd           4\n",
      "Name: count, dtype: int64\n"
     ]
    },
    {
     "data": {
      "text/html": [
       "<div>\n",
       "<style scoped>\n",
       "    .dataframe tbody tr th:only-of-type {\n",
       "        vertical-align: middle;\n",
       "    }\n",
       "\n",
       "    .dataframe tbody tr th {\n",
       "        vertical-align: top;\n",
       "    }\n",
       "\n",
       "    .dataframe thead th {\n",
       "        text-align: right;\n",
       "    }\n",
       "</style>\n",
       "<table border=\"1\" class=\"dataframe\">\n",
       "  <thead>\n",
       "    <tr style=\"text-align: right;\">\n",
       "      <th></th>\n",
       "      <th>eventType</th>\n",
       "      <th>gameID</th>\n",
       "      <th>playerID</th>\n",
       "      <th>sessionID</th>\n",
       "      <th>timestamp</th>\n",
       "      <th>levelStarted</th>\n",
       "      <th>isStuck</th>\n",
       "      <th>posX</th>\n",
       "      <th>posY</th>\n",
       "      <th>posZ</th>\n",
       "    </tr>\n",
       "  </thead>\n",
       "  <tbody>\n",
       "    <tr>\n",
       "      <th>0</th>\n",
       "      <td>GameStart</td>\n",
       "      <td>Damn</td>\n",
       "      <td>200468402800683</td>\n",
       "      <td>2004684028006831747132175772</td>\n",
       "      <td>1747132175772</td>\n",
       "      <td>NaN</td>\n",
       "      <td>NaN</td>\n",
       "      <td>NaN</td>\n",
       "      <td>NaN</td>\n",
       "      <td>NaN</td>\n",
       "    </tr>\n",
       "    <tr>\n",
       "      <th>1</th>\n",
       "      <td>LevelStart</td>\n",
       "      <td>Damn</td>\n",
       "      <td>200468402800683</td>\n",
       "      <td>2004684028006831747132175772</td>\n",
       "      <td>1747132175772</td>\n",
       "      <td>0.0</td>\n",
       "      <td>NaN</td>\n",
       "      <td>NaN</td>\n",
       "      <td>NaN</td>\n",
       "      <td>NaN</td>\n",
       "    </tr>\n",
       "    <tr>\n",
       "      <th>2</th>\n",
       "      <td>Position</td>\n",
       "      <td>Damn</td>\n",
       "      <td>200468402800683</td>\n",
       "      <td>2004684028006831747132175772</td>\n",
       "      <td>1747132175772</td>\n",
       "      <td>NaN</td>\n",
       "      <td>False</td>\n",
       "      <td>0.813311</td>\n",
       "      <td>5.131177</td>\n",
       "      <td>5.16052</td>\n",
       "    </tr>\n",
       "    <tr>\n",
       "      <th>3</th>\n",
       "      <td>Position</td>\n",
       "      <td>Damn</td>\n",
       "      <td>200468402800683</td>\n",
       "      <td>2004684028006831747132175772</td>\n",
       "      <td>1747132175772</td>\n",
       "      <td>NaN</td>\n",
       "      <td>False</td>\n",
       "      <td>0.813311</td>\n",
       "      <td>4.086732</td>\n",
       "      <td>5.16052</td>\n",
       "    </tr>\n",
       "    <tr>\n",
       "      <th>4</th>\n",
       "      <td>Position</td>\n",
       "      <td>Damn</td>\n",
       "      <td>200468402800683</td>\n",
       "      <td>2004684028006831747132175772</td>\n",
       "      <td>1747132175772</td>\n",
       "      <td>NaN</td>\n",
       "      <td>False</td>\n",
       "      <td>0.813311</td>\n",
       "      <td>4.002932</td>\n",
       "      <td>5.16052</td>\n",
       "    </tr>\n",
       "  </tbody>\n",
       "</table>\n",
       "</div>"
      ],
      "text/plain": [
       "    eventType gameID         playerID                     sessionID  \\\n",
       "0   GameStart   Damn  200468402800683  2004684028006831747132175772   \n",
       "1  LevelStart   Damn  200468402800683  2004684028006831747132175772   \n",
       "2    Position   Damn  200468402800683  2004684028006831747132175772   \n",
       "3    Position   Damn  200468402800683  2004684028006831747132175772   \n",
       "4    Position   Damn  200468402800683  2004684028006831747132175772   \n",
       "\n",
       "       timestamp  levelStarted isStuck      posX      posY     posZ  \n",
       "0  1747132175772           NaN     NaN       NaN       NaN      NaN  \n",
       "1  1747132175772           0.0     NaN       NaN       NaN      NaN  \n",
       "2  1747132175772           NaN   False  0.813311  5.131177  5.16052  \n",
       "3  1747132175772           NaN   False  0.813311  4.086732  5.16052  \n",
       "4  1747132175772           NaN   False  0.813311  4.002932  5.16052  "
      ]
     },
     "execution_count": 26,
     "metadata": {},
     "output_type": "execute_result"
    }
   ],
   "source": [
    "# Paso 1: Cargar y explorar todos los JSON de telemetría\n",
    "\n",
    "import os\n",
    "import glob\n",
    "import json\n",
    "import pandas as pd\n",
    "\n",
    "data_dir = './data'\n",
    "# 1) Listar todos los JSON\n",
    "json_files = glob.glob(os.path.join(data_dir, '*.json'))\n",
    "print(f\"Detectados {len(json_files)} ficheros JSON en {data_dir}\")\n",
    "\n",
    "# 2) Leerlos y concatenar en un único DataFrame\n",
    "dfs = []\n",
    "for fp in json_files:\n",
    "    with open(fp, 'r', encoding='utf-8') as f:\n",
    "        data = json.load(f)\n",
    "    dfs.append(pd.DataFrame(data))\n",
    "\n",
    "df = pd.concat(dfs, ignore_index=True)\n",
    "print(\"Total de eventos:\", len(df))\n",
    "print(\"\\nTipos de evento y recuentos:\\n\", df['eventType'].value_counts())\n",
    "df.head()\n"
   ]
  },
  {
   "cell_type": "markdown",
   "id": "85bc5ff0",
   "metadata": {},
   "source": [
    "## normalización\n"
   ]
  },
  {
   "cell_type": "code",
   "execution_count": 27,
   "id": "f9c73b89",
   "metadata": {},
   "outputs": [
    {
     "name": "stdout",
     "output_type": "stream",
     "text": [
      "   session_idx                start_dt                  end_dt\n",
      "0            1 2025-05-13 12:29:35.772 2025-05-13 12:29:35.772\n",
      "1            2 2025-05-13 13:29:21.062 2025-05-13 13:29:21.062\n",
      "2            3 2025-05-13 19:24:37.091 2025-05-13 19:24:37.091\n",
      "3            4 2025-05-13 19:52:27.229 2025-05-13 19:52:27.229\n"
     ]
    }
   ],
   "source": [
    "# Paso 2 (mejorado): normalización de timestamp con zona horaria\n",
    "import pandas as pd\n",
    "\n",
    "# 1) Convierte todo a datetime UTC y luego a CEST\n",
    "df['datetime_utc'] = pd.to_datetime(df['timestamp'], unit='ms', utc=True)\n",
    "df['datetime']     = df['datetime_utc'].dt.tz_convert('Europe/Madrid').dt.tz_localize(None)\n",
    "\n",
    "# 2) Mapear sessionID a pequeño índice\n",
    "df['session_idx'] = df['sessionID'].astype('category').cat.codes + 1\n",
    "\n",
    "# 3) Para cada sesión, calcula inicio y fin\n",
    "session_times = (\n",
    "    df.groupby('session_idx')['timestamp']\n",
    "      .agg(start_ms='min', end_ms='max')\n",
    "      .reset_index()\n",
    ")\n",
    "session_times['start_dt'] = pd.to_datetime(session_times['start_ms'], unit='ms', utc=True)    \\\n",
    "                                  .dt.tz_convert('Europe/Madrid').dt.tz_localize(None)\n",
    "session_times['end_dt']   = pd.to_datetime(session_times['end_ms'],   unit='ms', utc=True)    \\\n",
    "                                  .dt.tz_convert('Europe/Madrid').dt.tz_localize(None)\n",
    "\n",
    "# 4) Muestra el resultado\n",
    "print(session_times[['session_idx','start_dt','end_dt']])\n"
   ]
  },
  {
   "cell_type": "markdown",
   "id": "d8d0ce92",
   "metadata": {},
   "source": [
    "## stucks\n"
   ]
  },
  {
   "cell_type": "code",
   "execution_count": 28,
   "id": "b235efac",
   "metadata": {},
   "outputs": [
    {
     "name": "stdout",
     "output_type": "stream",
     "text": [
      "Total de posiciones: 16048\n",
      "Eventos stuck    : 12\n",
      "Proporción stuck : 0.07%\n"
     ]
    }
   ],
   "source": [
    "# Paso 3: Métricas de “atascos” en eventos Position\n",
    "\n",
    "# 1) Filtrar sólo posiciones\n",
    "df_pos = df[df['eventType'] == 'Position'].copy()\n",
    "\n",
    "# 2) Recuento total y de atascos\n",
    "total_positions = len(df_pos)\n",
    "stuck_count    = df_pos['isStuck'].sum()          # True cuenta como 1\n",
    "stuck_ratio    = stuck_count / total_positions\n",
    "\n",
    "# 3) Mostrar resultados\n",
    "print(f\"Total de posiciones: {total_positions}\")\n",
    "print(f\"Eventos stuck    : {stuck_count}\")\n",
    "print(f\"Proporción stuck : {stuck_ratio:.2%}\")\n"
   ]
  },
  {
   "cell_type": "markdown",
   "id": "6cece802",
   "metadata": {},
   "source": [
    "## analisis atascos\n"
   ]
  },
  {
   "cell_type": "code",
   "execution_count": 29,
   "id": "21dfd394",
   "metadata": {},
   "outputs": [
    {
     "name": "stdout",
     "output_type": "stream",
     "text": [
      "     grid_x  grid_z  pos_count  stuck_count\n",
      "453       0       5        107         12.0\n",
      "1       -32       1        449          0.0\n",
      "2       -32       2          8          0.0\n",
      "3       -31      -1         42          0.0\n",
      "4       -31       0         25          0.0\n",
      "5       -31       1          2          0.0\n",
      "6       -31       2         26          0.0\n",
      "7       -31       3         26          0.0\n",
      "8       -31       4          1          0.0\n",
      "9       -30      -2         81          0.0\n"
     ]
    }
   ],
   "source": [
    "# Paso 4: Hotspots espaciales\n",
    "\n",
    "import numpy as np\n",
    "\n",
    "# 1) Definir tamaño de celda\n",
    "cell_size = 1.0\n",
    "\n",
    "# 2) Asignar celda a cada posición\n",
    "df_pos['grid_x'] = np.floor(df_pos['posX'] / cell_size).astype(int)\n",
    "df_pos['grid_z'] = np.floor(df_pos['posZ'] / cell_size).astype(int)\n",
    "\n",
    "# 3) Contar posiciones y atascos por celda\n",
    "grid_counts = (\n",
    "    df_pos\n",
    "    .groupby(['grid_x','grid_z'])\n",
    "    .size()\n",
    "    .reset_index(name='pos_count')\n",
    ")\n",
    "grid_stuck = (\n",
    "    df_pos[df_pos['isStuck']]\n",
    "    .groupby(['grid_x','grid_z'])\n",
    "    .size()\n",
    "    .reset_index(name='stuck_count')\n",
    ")\n",
    "\n",
    "# 4) Unir y rellenar ceros donde no haya atascos\n",
    "grid = (\n",
    "    grid_counts\n",
    "    .merge(grid_stuck, on=['grid_x','grid_z'], how='left')\n",
    "    .fillna(0)\n",
    ")\n",
    "\n",
    "# 5) Mostrar top 10 celdas con más atascos\n",
    "top_hotspots = grid.sort_values('stuck_count', ascending=False).head(10)\n",
    "print(top_hotspots)\n"
   ]
  },
  {
   "cell_type": "markdown",
   "id": "c24066a5",
   "metadata": {},
   "source": [
    "## duracion atascos\n"
   ]
  },
  {
   "cell_type": "code",
   "execution_count": 30,
   "id": "a6edb962",
   "metadata": {},
   "outputs": [
    {
     "name": "stdout",
     "output_type": "stream",
     "text": [
      "Resumen de duraciones de atascos (s):\n",
      "count    12.0\n",
      "mean      0.0\n",
      "std       0.0\n",
      "min       0.0\n",
      "25%       0.0\n",
      "50%       0.0\n",
      "75%       0.0\n",
      "max       0.0\n",
      "Name: duration_s, dtype: float64\n",
      "\n",
      "Top 10 atascos más largos:\n",
      "   start_time_ms    end_time_ms  pos_count  duration_s\n",
      "0  1747132175772  1747132175772          1         0.0\n",
      "1  1747132175772  1747132175772          1         0.0\n",
      "2  1747132175772  1747132175772          1         0.0\n",
      "3  1747132175772  1747132175772          1         0.0\n",
      "4  1747132175772  1747132175772          1         0.0\n",
      "5  1747157077091  1747157077091          1         0.0\n",
      "6  1747158747229  1747158747229          1         0.0\n",
      "7  1747158747229  1747158747229          1         0.0\n",
      "8  1747158747229  1747158747229          1         0.0\n",
      "9  1747158747229  1747158747229          1         0.0\n"
     ]
    }
   ],
   "source": [
    "# Paso 5: Duración de atascos\n",
    "\n",
    "# 1) Asegurarnos de que esté ordenado\n",
    "df_pos = df_pos.sort_values('timestamp')\n",
    "\n",
    "# 2) Crear identificador de cada secuencia stuck\n",
    "mask = df_pos['isStuck']\n",
    "# Cada vez que empieza un stuck (True tras un False) incrementamos el contador\n",
    "df_pos['stuck_group'] = (mask & (~mask.shift(fill_value=False))).cumsum()\n",
    "\n",
    "# 3) Agregar sólo los eventos stuck por grupo\n",
    "stuck_groups = (\n",
    "    df_pos[df_pos['isStuck']]\n",
    "    .groupby('stuck_group')\n",
    "    .agg(\n",
    "        start_time_ms=('timestamp', 'min'),\n",
    "        end_time_ms  =('timestamp', 'max'),\n",
    "        pos_count    =('timestamp','size')        # cuántos registros tuvo ese atasco\n",
    "    )\n",
    "    .reset_index(drop=True)\n",
    ")\n",
    "\n",
    "# 4) Duración en segundos y estadísticas\n",
    "stuck_groups['duration_s'] = (stuck_groups['end_time_ms'] - stuck_groups['start_time_ms']) / 1000\n",
    "\n",
    "print(\"Resumen de duraciones de atascos (s):\")\n",
    "print(stuck_groups['duration_s'].describe())\n",
    "print(\"\\nTop 10 atascos más largos:\")\n",
    "print(stuck_groups.sort_values('duration_s', ascending=False).head(10))\n"
   ]
  }
 ],
 "metadata": {
  "kernelspec": {
   "display_name": "Python 3",
   "language": "python",
   "name": "python3"
  },
  "language_info": {
   "codemirror_mode": {
    "name": "ipython",
    "version": 3
   },
   "file_extension": ".py",
   "mimetype": "text/x-python",
   "name": "python",
   "nbconvert_exporter": "python",
   "pygments_lexer": "ipython3",
   "version": "3.13.3"
  }
 },
 "nbformat": 4,
 "nbformat_minor": 5
}
